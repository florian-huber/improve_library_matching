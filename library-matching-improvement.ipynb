{
 "cells": [
  {
   "cell_type": "markdown",
   "metadata": {},
   "source": [
    "# Spec2Vec - Find similar compounds for unknown substances\n",
    "One very important use case for a spectral similariy measure is libarary matching.  \n",
    "This means matching previously unseen/unknown spectra to known, annotated sepctra in a larger library."
   ]
  },
  {
   "cell_type": "code",
   "execution_count": 1,
   "metadata": {},
   "outputs": [],
   "source": [
    "import os\n",
    "import sys\n",
    "import gensim\n",
    "import numpy as np\n",
    "import pandas as pd\n",
    "from matplotlib import pyplot as plt\n",
    "\n",
    "ROOT = os.path.dirname(os.getcwd())\n",
    "#path_data = os.path.join(ROOT, 'data')\n",
    "path_data = 'C:\\\\Users\\\\joris\\\\Documents\\\\eScience_data\\\\data'\n",
    "sys.path.insert(0, ROOT)\n",
    "sys.path.insert(0, \"C:\\\\Users\\\\joris\\\\Documents\\\\eScience_data\\\\spec2vec_gnps_data_analysis\\\\custom_functions\")"
   ]
  },
  {
   "cell_type": "markdown",
   "metadata": {},
   "source": [
    "### Import pre-processed dataset \"AllPositive\""
   ]
  },
  {
   "cell_type": "code",
   "execution_count": 4,
   "metadata": {},
   "outputs": [
    {
     "name": "stdout",
     "output_type": "stream",
     "text": [
      "number of spectra: 112956\n"
     ]
    }
   ],
   "source": [
    "from matchms.importing import load_from_json\n",
    "\n",
    "filename = os.path.join(path_data,'gnps_positive_ionmode_cleaned_by_matchms_and_lookups.json')\n",
    "spectrums = load_from_json(filename)\n",
    "\n",
    "print(\"number of spectra:\", len(spectrums))"
   ]
  },
  {
   "cell_type": "code",
   "execution_count": 5,
   "metadata": {},
   "outputs": [
    {
     "data": {
      "text/plain": [
       "{'spectrum_id': 'CCMSLIB00000001547',\n",
       " 'source_file': '130618_Ger_Jenia_WT-3-Des-MCLR_MH981.4-qb.1.1..mgf',\n",
       " 'task': '47daa4396adb426eaa5fa54b6ce7dd5f',\n",
       " 'scan': '-1',\n",
       " 'ms_level': '2',\n",
       " 'library_membership': 'GNPS-LIBRARY',\n",
       " 'spectrum_status': '1',\n",
       " 'splash': 'splash10-0w2a-0001282259-0001282259',\n",
       " 'submit_user': 'mwang87',\n",
       " 'compound_name': '3-Des-Microcystein_LR',\n",
       " 'ion_source': 'LC-ESI',\n",
       " 'compound_source': 'Isolated',\n",
       " 'instrument': 'qTof',\n",
       " 'pi': 'Gerwick',\n",
       " 'data_collector': 'Jenia',\n",
       " 'adduct': 'M+H',\n",
       " 'precursor_mz': 981.54,\n",
       " 'exactmass': '0.0',\n",
       " 'charge': 1,\n",
       " 'cas_number': 'N/A',\n",
       " 'pubmed_id': 'N/A',\n",
       " 'smiles': 'CC(C)CC1NC(=O)C(C)NC(=O)C(=C)N(C)C(=O)CCC(NC(=O)C(C)C(NC(=O)C(CCCNC(N)=N)NC(=O)C(C)C(NC1=O)C(O)=O)\\\\C=C\\\\C(\\\\C)=C\\\\C(C)C(O)Cc1ccccc1)C(O)=O',\n",
       " 'inchi': 'InChI=1S/C48H72N10O12/c1-25(2)22-36-45(66)57-39(47(69)70)29(6)41(62)54-34(16-13-21-51-48(49)50)44(65)53-33(18-17-26(3)23-27(4)37(59)24-32-14-11-10-12-15-32)28(5)40(61)55-35(46(67)68)19-20-38(60)58(9)31(8)43(64)52-30(7)42(63)56-36/h10-12,14-15,17-18,23,25,27-30,33-37,39,59H,8,13,16,19-22,24H2,1-7,9H3,(H,52,64)(H,53,65)(H,54,62)(H,55,61)(H,56,63)(H,57,66)(H,67,68)(H,69,70)(H4,49,50,51)/b18-17+,26-23+',\n",
       " 'inchiaux': 'N/A',\n",
       " 'library_class': '1',\n",
       " 'spectrumid': 'CCMSLIB00000001547',\n",
       " 'ionmode': 'positive',\n",
       " 'create_time': '2019-10-30 21:18:25.0',\n",
       " 'task_id': 'aa87bf9cd0784df9956753f435c32434',\n",
       " 'user_id': 'null',\n",
       " 'inchikey_smiles': 'IYDKWWDUBYWQGF-NNAZGLEUSA-N',\n",
       " 'inchikey_inchi': '',\n",
       " 'formula_smiles': 'C48H72N10O12',\n",
       " 'formula_inchi': '',\n",
       " 'url': 'https://gnps.ucsd.edu/ProteoSAFe/gnpslibraryspectrum.jsp?SpectrumID=CCMSLIB00000001547',\n",
       " 'annotation_history': [{'Compound_Name': '3-Des-Microcystein_LR',\n",
       "   'Ion_Source': 'LC-ESI',\n",
       "   'Compound_Source': 'Isolated',\n",
       "   'Instrument': 'Ger',\n",
       "   'PI': 'Gerwick',\n",
       "   'Data_Collector': 'Jenia',\n",
       "   'Adduct': 'M+H',\n",
       "   'Scan': '-1',\n",
       "   'Precursor_MZ': '981.4',\n",
       "   'ExactMass': '0.0',\n",
       "   'Charge': '0',\n",
       "   'CAS_Number': 'N/A',\n",
       "   'Pubmed_ID': 'N/A',\n",
       "   'Smiles': 'N/A',\n",
       "   'INCHI': 'N/A',\n",
       "   'INCHI_AUX': 'N/A',\n",
       "   'Library_Class': '1',\n",
       "   'SpectrumID': 'CCMSLIB00000001547',\n",
       "   'Ion_Mode': 'Positive',\n",
       "   'create_time': '2014-02-04 17:56:43.0',\n",
       "   'task_id': '47daa4396adb426eaa5fa54b6ce7dd5f',\n",
       "   'user_id': 'mwang87'},\n",
       "  {'Compound_Name': '3-Des-Microcystein_LR',\n",
       "   'Ion_Source': 'LC-ESI',\n",
       "   'Compound_Source': 'Isolated',\n",
       "   'Instrument': 'qTof',\n",
       "   'PI': 'Gerwick',\n",
       "   'Data_Collector': 'Jenia',\n",
       "   'Adduct': 'M+H',\n",
       "   'Scan': '-1',\n",
       "   'Precursor_MZ': '981.54',\n",
       "   'ExactMass': '0.0',\n",
       "   'Charge': '0',\n",
       "   'CAS_Number': 'N/A',\n",
       "   'Pubmed_ID': 'N/A',\n",
       "   'Smiles': 'CC(C)CC1NC(=O)C(C)NC(=O)C(=C)N(C)C(=O)CCC(NC(=O)C(C)C(NC(=O)C(CCCNC(N)=N)NC(=O)C(C)C(NC1=O)C(O)=O)\\\\C=C\\\\C(\\\\C)=C\\\\C(C)C(O)Cc1ccccc1)C(O)=O',\n",
       "   'INCHI': 'N/A',\n",
       "   'INCHI_AUX': 'N/A',\n",
       "   'Library_Class': '1',\n",
       "   'SpectrumID': 'CCMSLIB00000001547',\n",
       "   'Ion_Mode': 'Positive',\n",
       "   'create_time': '2019-10-30 21:18:25.0',\n",
       "   'task_id': 'aa87bf9cd0784df9956753f435c32434',\n",
       "   'user_id': 'lfnothias'}],\n",
       " 'parent_mass': 980.5327235480092,\n",
       " 'inchikey': 'IYDKWWDUBYWQGF-NNAZGLEUSA-N'}"
      ]
     },
     "execution_count": 5,
     "metadata": {},
     "output_type": "execute_result"
    }
   ],
   "source": [
    "spectrums[0].metadata"
   ]
  },
  {
   "cell_type": "code",
   "execution_count": 4,
   "metadata": {},
   "outputs": [
    {
     "data": {
      "text/plain": [
       "Text(0, 0.5, 'number of spectra in respective bin')"
      ]
     },
     "execution_count": 4,
     "metadata": {},
     "output_type": "execute_result"
    },
    {
     "data": {
      "image/png": "[encoded data removed]",
      "text/plain": [
       "<Figure size 864x504 with 1 Axes>"
      ]
     },
     "metadata": {
      "needs_background": "light"
     },
     "output_type": "display_data"
    }
   ],
   "source": [
    "number_of_peaks = [len(spec.peaks) for spec in spectrums]\n",
    "\n",
    "plt.figure(figsize=(12,7))\n",
    "hist = plt.hist(number_of_peaks, np.arange(0,2000,20))\n",
    "plt.xlabel(\"number of peaks in spectrum\")\n",
    "plt.ylabel(\"number of spectra in respective bin\")"
   ]
  },
  {
   "cell_type": "markdown",
   "metadata": {},
   "source": [
    "## Post-process data\n",
    "We here do different post-processing for either the \"classical\" scores (Cosine, modified Cosine) or Spe2Vec. The reason for this is mostly to make sure that we do full justice to the classical similarity measures.\n",
    "\n",
    "#### Post-processing for classical scores\n",
    "Cosine and modified cosine scores are build on multiplying intensities of matching peaks. Small peaks (<0.01) hence contribute very little to the final scores and are left out to avoid excessive computation times. \n",
    "+ normalize peaks (maximum intensity to 1)\n",
    "+ remove peaks outside [0, 1000] m/z window\n",
    "+ remove spectra with < 10 peaks\n",
    "+ remove peaks with intensities < 0.01 of maximum intensity.\n",
    "\n",
    "#### Post-processing for Spec2Vec\n",
    "Spec2Vec similarity scores rely on creating a ``document vector`` for each spectrum. For the underlying word2vec model we want the documents (=spectra) to be more homogeneous in their number of unique words. Assuming that larger compounds will on average break down into a higher number of meaningful fragment peaks we reduce the document size of each spectrum according to its parent mass.\n",
    "+ normalize peaks (maximum intensity to 1)\n",
    "+ remove peaks outside [0, 1000] m/z window\n",
    "+ remove spectra with < 10 peaks\n",
    "+ reduce number of peaks to maximum of 0.5 * parent mass\n",
    "+ remove peaks with intensities < 0.001 of maximum intensity (unless this brings number of peaks to less than 10)"
   ]
  },
  {
   "cell_type": "code",
   "execution_count": 7,
   "metadata": {},
   "outputs": [
    {
     "name": "stdout",
     "output_type": "stream",
     "text": [
      "95320 remaining spectra.\n"
     ]
    }
   ],
   "source": [
    "def post_process_s2v(s):\n",
    "    s = normalize_intensities(s)\n",
    "    s = select_by_mz(s, mz_from=0, mz_to=1000)\n",
    "    s = require_minimum_number_of_peaks(s, n_required=10)\n",
    "    s = reduce_to_number_of_peaks(s, n_required=10, ratio_desired=0.5)\n",
    "    if s is None:\n",
    "        return None\n",
    "    s_remove_low_peaks = select_by_relative_intensity(s, intensity_from=0.001)\n",
    "    if len(s_remove_low_peaks.peaks) >= 10:\n",
    "        s = s_remove_low_peaks\n",
    "        \n",
    "    s = add_losses(s, loss_mz_from=5.0, loss_mz_to=200.0)\n",
    "    return s\n",
    "\n",
    "# apply post processing steps to the data\n",
    "spectrums_s2v = [post_process_s2v(s) for s in spectrums]\n",
    "\n",
    "# omit spectrums that didn't qualify for analysis\n",
    "spectrums_s2v = [s for s in spectrums_s2v if s is not None]\n",
    "\n",
    "print(\"{} remaining spectra.\".format(len(spectrums_s2v)))"
   ]
  },
  {
   "cell_type": "code",
   "execution_count": 9,
   "metadata": {},
   "outputs": [
    {
     "data": {
      "text/plain": [
       "Text(0, 0.5, 'number of spectra in respective bin')"
      ]
     },
     "execution_count": 9,
     "metadata": {},
     "output_type": "execute_result"
    },
    {
     "data": {
      "image/png": "[encoded data removed]",
      "text/plain": [
       "<Figure size 864x504 with 1 Axes>"
      ]
     },
     "metadata": {
      "needs_background": "light"
     },
     "output_type": "display_data"
    }
   ],
   "source": [
    "number_of_peaks = [len(spec.peaks) for spec in spectrums_s2v]\n",
    "\n",
    "plt.figure(figsize=(12,7))\n",
    "hist = plt.hist(number_of_peaks, np.arange(0,2000,20))\n",
    "plt.xlabel(\"number of peaks in spectrum\")\n",
    "plt.ylabel(\"number of spectra in respective bin\")"
   ]
  },
  {
   "cell_type": "code",
   "execution_count": 10,
   "metadata": {},
   "outputs": [
    {
     "data": {
      "text/plain": [
       "1081"
      ]
     },
     "execution_count": 10,
     "metadata": {},
     "output_type": "execute_result"
    }
   ],
   "source": [
    "np.max(number_of_peaks)"
   ]
  },
  {
   "cell_type": "markdown",
   "metadata": {},
   "source": [
    "## Inspect annotations"
   ]
  },
  {
   "cell_type": "code",
   "execution_count": 8,
   "metadata": {},
   "outputs": [],
   "source": [
    "Inchikeys = []\n",
    "for spec in spectrums_s2v:\n",
    "    Inchikeys.append(spec.get(\"inchikey\"))"
   ]
  },
  {
   "cell_type": "code",
   "execution_count": 12,
   "metadata": {},
   "outputs": [
    {
     "data": {
      "text/plain": [
       "['IYDKWWDUBYWQGF-NNAZGLEUSA-N',\n",
       " 'KNGPFNUOXXLKCN-ZNCJFREWSA-N',\n",
       " 'WXDBUBIFYCCNLE-NSCMQRKRSA-N',\n",
       " 'CGZKSPLDUIRCIO-RPCRKUJJSA-N',\n",
       " '',\n",
       " 'USXIYWCPCGVOKF-LERJCCFDSA-N',\n",
       " '',\n",
       " 'WCNJVJCYRBJSLC-BCJYPDSRSA-N',\n",
       " 'USXIYWCPCGVOKF-NOENWEJRSA-N',\n",
       " 'WCNJVJCYRBJSLC-BCJYPDSRSA-N']"
      ]
     },
     "execution_count": 12,
     "metadata": {},
     "output_type": "execute_result"
    }
   ],
   "source": [
    "Inchikeys[:10]"
   ]
  },
  {
   "cell_type": "code",
   "execution_count": 10,
   "metadata": {},
   "outputs": [
    {
     "data": {
      "text/plain": [
       "NEGQHKSYEYVFTD    432\n",
       "SULIDBRAXVDKBU    426\n",
       "IQGPMZRCLCCXAG    308\n",
       "WTJKGGKOPKCXLL    295\n",
       "IIZPXYDJLKNOIY    235\n",
       "RWKUXQNLWDTSLO    234\n",
       "QIBZFHLFHCIUOT    225\n",
       "ZAYXPDDGEIJGGW    212\n",
       "QJWDAOSZZYVBJZ    210\n",
       "KILNVBDSWZSGLL    205\n",
       "RFVFQQWKPSOBED    202\n",
       "IESVDEZGAHUQJU    197\n",
       "LFUDDCMNKWEORN    195\n",
       "JLPULHDHAOZNQI    182\n",
       "LSOWKZULVQWMLY    180\n",
       "XGGMHQYOVYWRLV    178\n",
       "LLHISNQVRRYJGL    175\n",
       "JFISYPWOVQNHLS    174\n",
       "SRIGHEHXEGELQJ    166\n",
       "ACTIUHUUMQJHFO    163\n",
       "PZNPLUBHRSSFHT    162\n",
       "YLWSJLLZUHSIEA    158\n",
       "GPWHCUUIQMGELX    150\n",
       "BLZVZPYMHLXLHG    148\n",
       "QEDPUVGSSDPBMD    146\n",
       "IGZPHNNYPPAPLA    142\n",
       "CITHEXJVPOWHKC    141\n",
       "YEJYLHKQOBOSCP    131\n",
       "SXNXGNVZTLZDHE    131\n",
       "AXZGUCXCTZMPTR    128\n",
       "dtype: int64"
      ]
     },
     "execution_count": 10,
     "metadata": {},
     "output_type": "execute_result"
    }
   ],
   "source": [
    "inchikeys_pd = pd.Series([x for x in Inchikeys if x])\n",
    "inchikeys_pd.str[:14].value_counts()[:30]"
   ]
  },
  {
   "cell_type": "code",
   "execution_count": 14,
   "metadata": {},
   "outputs": [
    {
     "data": {
      "text/plain": [
       "Text(0, 0.5, 'Number of inchikeys with respective number of occurences')"
      ]
     },
     "execution_count": 14,
     "metadata": {},
     "output_type": "execute_result"
    },
    {
     "data": {
      "image/png": "[encoded data removed]",
      "text/plain": [
       "<Figure size 864x432 with 1 Axes>"
      ]
     },
     "metadata": {
      "needs_background": "light"
     },
     "output_type": "display_data"
    }
   ],
   "source": [
    "plt.figure(figsize=(12,6))\n",
    "plt.hist(inchikeys_pd.str[:14].value_counts(), np.linspace(0, 60, 60))\n",
    "plt.xlabel('Number of occurences of inchikey')\n",
    "plt.ylabel('Number of inchikeys with respective number of occurences')"
   ]
  },
  {
   "cell_type": "code",
   "execution_count": 11,
   "metadata": {},
   "outputs": [
    {
     "data": {
      "text/html": [
       "<div>\n",
       "<style scoped>\n",
       "    .dataframe tbody tr th:only-of-type {\n",
       "        vertical-align: middle;\n",
       "    }\n",
       "\n",
       "    .dataframe tbody tr th {\n",
       "        vertical-align: top;\n",
       "    }\n",
       "\n",
       "    .dataframe thead th {\n",
       "        text-align: right;\n",
       "    }\n",
       "</style>\n",
       "<table border=\"1\" class=\"dataframe\">\n",
       "  <thead>\n",
       "    <tr style=\"text-align: right;\">\n",
       "      <th></th>\n",
       "      <th>inchikey14</th>\n",
       "      <th>occurences</th>\n",
       "    </tr>\n",
       "  </thead>\n",
       "  <tbody>\n",
       "    <tr>\n",
       "      <th>0</th>\n",
       "      <td>NEGQHKSYEYVFTD</td>\n",
       "      <td>432</td>\n",
       "    </tr>\n",
       "    <tr>\n",
       "      <th>1</th>\n",
       "      <td>SULIDBRAXVDKBU</td>\n",
       "      <td>426</td>\n",
       "    </tr>\n",
       "    <tr>\n",
       "      <th>2</th>\n",
       "      <td>IQGPMZRCLCCXAG</td>\n",
       "      <td>308</td>\n",
       "    </tr>\n",
       "    <tr>\n",
       "      <th>3</th>\n",
       "      <td>WTJKGGKOPKCXLL</td>\n",
       "      <td>295</td>\n",
       "    </tr>\n",
       "    <tr>\n",
       "      <th>4</th>\n",
       "      <td>IIZPXYDJLKNOIY</td>\n",
       "      <td>235</td>\n",
       "    </tr>\n",
       "    <tr>\n",
       "      <th>5</th>\n",
       "      <td>RWKUXQNLWDTSLO</td>\n",
       "      <td>234</td>\n",
       "    </tr>\n",
       "    <tr>\n",
       "      <th>6</th>\n",
       "      <td>QIBZFHLFHCIUOT</td>\n",
       "      <td>225</td>\n",
       "    </tr>\n",
       "    <tr>\n",
       "      <th>7</th>\n",
       "      <td>ZAYXPDDGEIJGGW</td>\n",
       "      <td>212</td>\n",
       "    </tr>\n",
       "    <tr>\n",
       "      <th>8</th>\n",
       "      <td>QJWDAOSZZYVBJZ</td>\n",
       "      <td>210</td>\n",
       "    </tr>\n",
       "    <tr>\n",
       "      <th>9</th>\n",
       "      <td>KILNVBDSWZSGLL</td>\n",
       "      <td>205</td>\n",
       "    </tr>\n",
       "    <tr>\n",
       "      <th>10</th>\n",
       "      <td>RFVFQQWKPSOBED</td>\n",
       "      <td>202</td>\n",
       "    </tr>\n",
       "    <tr>\n",
       "      <th>11</th>\n",
       "      <td>IESVDEZGAHUQJU</td>\n",
       "      <td>197</td>\n",
       "    </tr>\n",
       "    <tr>\n",
       "      <th>12</th>\n",
       "      <td>LFUDDCMNKWEORN</td>\n",
       "      <td>195</td>\n",
       "    </tr>\n",
       "    <tr>\n",
       "      <th>13</th>\n",
       "      <td>JLPULHDHAOZNQI</td>\n",
       "      <td>182</td>\n",
       "    </tr>\n",
       "    <tr>\n",
       "      <th>14</th>\n",
       "      <td>LSOWKZULVQWMLY</td>\n",
       "      <td>180</td>\n",
       "    </tr>\n",
       "  </tbody>\n",
       "</table>\n",
       "</div>"
      ],
      "text/plain": [
       "        inchikey14  occurences\n",
       "0   NEGQHKSYEYVFTD         432\n",
       "1   SULIDBRAXVDKBU         426\n",
       "2   IQGPMZRCLCCXAG         308\n",
       "3   WTJKGGKOPKCXLL         295\n",
       "4   IIZPXYDJLKNOIY         235\n",
       "5   RWKUXQNLWDTSLO         234\n",
       "6   QIBZFHLFHCIUOT         225\n",
       "7   ZAYXPDDGEIJGGW         212\n",
       "8   QJWDAOSZZYVBJZ         210\n",
       "9   KILNVBDSWZSGLL         205\n",
       "10  RFVFQQWKPSOBED         202\n",
       "11  IESVDEZGAHUQJU         197\n",
       "12  LFUDDCMNKWEORN         195\n",
       "13  JLPULHDHAOZNQI         182\n",
       "14  LSOWKZULVQWMLY         180"
      ]
     },
     "execution_count": 11,
     "metadata": {},
     "output_type": "execute_result"
    }
   ],
   "source": [
    "suitable_inchikeys = pd.DataFrame(inchikeys_pd.str[:14].value_counts()[inchikeys_pd.str[:14].value_counts().values >= 5])\n",
    "suitable_inchikeys.reset_index(level=suitable_inchikeys.index.names, inplace=True)\n",
    "suitable_inchikeys.columns = (['inchikey14', 'occurences'])\n",
    "\n",
    "# Important: sort values to make it reproducible (same occurences have random order otherwise!)\n",
    "suitable_inchikeys = suitable_inchikeys.sort_values(['occurences', 'inchikey14'], ascending=False)\n",
    "suitable_inchikeys.head(15)"
   ]
  },
  {
   "cell_type": "code",
   "execution_count": 16,
   "metadata": {},
   "outputs": [
    {
     "name": "stdout",
     "output_type": "stream",
     "text": [
      "Number of spectra with inchikeys that exist >= 5 times: 4079\n"
     ]
    }
   ],
   "source": [
    "print(\"Number of spectra with inchikeys that exist >= 5 times:\", suitable_inchikeys.shape[0])"
   ]
  },
  {
   "cell_type": "markdown",
   "metadata": {},
   "source": [
    "### Randomly select 1000 inchikeys that exist >=5  times in the dataset"
   ]
  },
  {
   "cell_type": "code",
   "execution_count": 12,
   "metadata": {},
   "outputs": [
    {
     "name": "stdout",
     "output_type": "stream",
     "text": [
      "[  33 3233 1556 2547  457 3598  857 1878  705  803 1642  495 2866 1034\n",
      " 1517  564 2826  568 2575 3956  670 3317 1498 2971   96]\n"
     ]
    },
    {
     "data": {
      "text/plain": [
       "array(['SRRQPVVYXBTRQK', 'JUZYLCPPVHEVSV', 'UZXMLGUMBQQVME',\n",
       "       'PDAKXMIQFUHWQC', 'JFVKWCYZKMUTLH', 'HQPCSDADVLFHHO',\n",
       "       'HUPGTAGQEXENPN', 'YPKUMLKVFXFYOT', 'KWIUHFFTVRNATP',\n",
       "       'QJVXKWHHAMZTBY', 'PGERTGWKXFAEFR', 'MIHLTJZHRJACQQ',\n",
       "       'YFAGHNZHGGCZAX', 'LKWWJGGLULNRBP', 'XWTYSIMOBUGWOL',\n",
       "       'BPEXJHGGARTCIR', 'FHHVIBPVBBRLOR', 'YFPYXTNSQOUHPS',\n",
       "       'LTLYEAJONXGNFG', 'INOGLHRUEYDAHX', 'VGOJYSUPEJWUNN',\n",
       "       'BPICBUSOMSTKRF', 'ZQHJXKYYELWEOK', 'MXHRCPNRJAMMIM',\n",
       "       'QXMHHXQBBKDSSL'], dtype=object)"
      ]
     },
     "execution_count": 12,
     "metadata": {},
     "output_type": "execute_result"
    }
   ],
   "source": [
    "num_spectra = 1000\n",
    "\n",
    "np.random.seed(42) # to make it reproducible\n",
    "selection = np.random.choice(suitable_inchikeys.shape[0], num_spectra, replace=False)\n",
    "print(selection[:25])\n",
    "selected_inchikeys = suitable_inchikeys['inchikey14'].values[selection]\n",
    "selected_inchikeys[:25]"
   ]
  },
  {
   "cell_type": "code",
   "execution_count": 18,
   "metadata": {},
   "outputs": [
    {
     "name": "stdout",
     "output_type": "stream",
     "text": [
      "[  33 3233 1556 2547  457 3598  857 1878  705  803 1642  495 2866 1034\n",
      " 1517  564 2826  568 2575 3956  670 3317 1498 2971   96]\n"
     ]
    },
    {
     "data": {
      "text/plain": [
       "array(['SRRQPVVYXBTRQK', 'JUZYLCPPVHEVSV', 'UZXMLGUMBQQVME',\n",
       "       'PDAKXMIQFUHWQC', 'JFVKWCYZKMUTLH', 'HQPCSDADVLFHHO',\n",
       "       'HUPGTAGQEXENPN', 'YPKUMLKVFXFYOT', 'KWIUHFFTVRNATP',\n",
       "       'QJVXKWHHAMZTBY', 'PGERTGWKXFAEFR', 'MIHLTJZHRJACQQ',\n",
       "       'YFAGHNZHGGCZAX', 'LKWWJGGLULNRBP', 'XWTYSIMOBUGWOL',\n",
       "       'BPEXJHGGARTCIR', 'FHHVIBPVBBRLOR', 'YFPYXTNSQOUHPS',\n",
       "       'LTLYEAJONXGNFG', 'INOGLHRUEYDAHX', 'VGOJYSUPEJWUNN',\n",
       "       'BPICBUSOMSTKRF', 'ZQHJXKYYELWEOK', 'MXHRCPNRJAMMIM',\n",
       "       'QXMHHXQBBKDSSL'], dtype=object)"
      ]
     },
     "execution_count": 18,
     "metadata": {},
     "output_type": "execute_result"
    }
   ],
   "source": [
    "num_spectra = 1000\n",
    "\n",
    "np.random.seed(42) # to make it reproducible\n",
    "selection = np.random.choice(suitable_inchikeys.shape[0], num_spectra, replace=False)\n",
    "print(selection[:25])\n",
    "selected_inchikeys = suitable_inchikeys['inchikey14'].values[selection]\n",
    "selected_inchikeys[:25]"
   ]
  },
  {
   "cell_type": "markdown",
   "metadata": {},
   "source": [
    "### Randomly pick one spectra for each of the chosen inchikeys"
   ]
  },
  {
   "cell_type": "code",
   "execution_count": 13,
   "metadata": {},
   "outputs": [],
   "source": [
    "selected_spectra = []\n",
    "inchikeys_pd = pd.Series([x for x in Inchikeys]) #include all even empty ones to get the IDs right!\n",
    "\n",
    "np.random.seed(42) # to make it reproducible\n",
    "for inchikey in selected_inchikeys:\n",
    "    matches = inchikeys_pd[inchikeys_pd.str[:14] == inchikey].index.values\n",
    "    selected_spectra.append(int(np.random.choice(matches,1)[0]))"
   ]
  },
  {
   "cell_type": "code",
   "execution_count": 20,
   "metadata": {},
   "outputs": [
    {
     "data": {
      "text/plain": [
       "[52728, 6129, 78135, 62556, 73314, 21762, 12492, 88980, 63188, 74380]"
      ]
     },
     "execution_count": 20,
     "metadata": {},
     "output_type": "execute_result"
    }
   ],
   "source": [
    "selected_spectra[:10]"
   ]
  },
  {
   "cell_type": "code",
   "execution_count": 21,
   "metadata": {},
   "outputs": [
    {
     "data": {
      "text/plain": [
       "[52728, 6129, 78135, 62556, 73314, 21762, 12492, 88980, 63188, 74380]"
      ]
     },
     "execution_count": 21,
     "metadata": {},
     "output_type": "execute_result"
    }
   ],
   "source": [
    "selected_spectra[:10]"
   ]
  },
  {
   "cell_type": "code",
   "execution_count": 14,
   "metadata": {},
   "outputs": [
    {
     "name": "stdout",
     "output_type": "stream",
     "text": [
      "CCMSLIB00003128874 SRRQPVVYXBTRQK\n",
      "CCMSLIB00000005841 JUZYLCPPVHEVSV\n",
      "CCMSLIB00004701389 UZXMLGUMBQQVME\n",
      "CCMSLIB00000215466 PDAKXMIQFUHWQC\n",
      "CCMSLIB00004695353 JFVKWCYZKMUTLH\n",
      "CCMSLIB00003136589 HQPCSDADVLFHHO\n",
      "CCMSLIB00000850213 HUPGTAGQEXENPN\n",
      "CCMSLIB00004715739 YPKUMLKVFXFYOT\n",
      "CCMSLIB00000217500 KWIUHFFTVRNATP\n",
      "CCMSLIB00004696689 QJVXKWHHAMZTBY\n"
     ]
    }
   ],
   "source": [
    "# Show gnps IDs for selected spectra\n",
    "for ID in selected_spectra[:10]:\n",
    "    print(spectrums_s2v[ID].get(\"spectrumid\"),\n",
    "         spectrums_s2v[ID].get(\"inchikey\")[:14])"
   ]
  },
  {
   "cell_type": "markdown",
   "metadata": {},
   "source": [
    "## Train new model on AllPositive dataset WITHOUT selected spectra"
   ]
  },
  {
   "cell_type": "code",
   "execution_count": 15,
   "metadata": {},
   "outputs": [],
   "source": [
    "from spec2vec import Spec2VecParallel\n",
    "from spec2vec import SpectrumDocument"
   ]
  },
  {
   "cell_type": "code",
   "execution_count": 16,
   "metadata": {},
   "outputs": [],
   "source": [
    "documents_library_s2v = [SpectrumDocument(s, n_decimals=2) for ind, s in enumerate(spectrums_s2v) if ind not in selected_spectra]\n",
    "documents_library_classical = [SpectrumDocument(s, n_decimals=2) for ind, s in enumerate(spectrums_classical) if ind not in selected_spectra]"
   ]
  },
  {
   "cell_type": "code",
   "execution_count": 25,
   "metadata": {},
   "outputs": [
    {
     "data": {
      "text/plain": [
       "(94320, 95320)"
      ]
     },
     "execution_count": 25,
     "metadata": {},
     "output_type": "execute_result"
    }
   ],
   "source": [
    "len(documents_library_s2v), len(spectrums_s2v)  # 1000 should be removed"
   ]
  },
  {
   "cell_type": "code",
   "execution_count": 26,
   "metadata": {},
   "outputs": [],
   "source": [
    "#from spec2vec.model_building import train_new_word2vec_model\n",
    "\n",
    "#path_models = os.path.join(path_data, \"trained_models\")\n",
    "#model_file = os.path.join(path_models, \"spec2vec_librarymatching.model\")\n",
    "\n",
    "#iterations = [1, 3, 5, 10, 15, 20]\n",
    "\n",
    "# Train model with default parameters\n",
    "#model = train_new_word2vec_model(documents_library_s2v, iterations, model_file)"
   ]
  },
  {
   "cell_type": "markdown",
   "metadata": {},
   "source": [
    "## Actual library matching"
   ]
  },
  {
   "cell_type": "code",
   "execution_count": 17,
   "metadata": {},
   "outputs": [],
   "source": [
    "sys.path.insert(0, \"C:\\\\Users\\\\joris\\\\Documents\\\\eScience_data\\\\spec2vec_gnps_data_analysis\\\\custom_functions\")"
   ]
  },
  {
   "cell_type": "code",
   "execution_count": 18,
   "metadata": {},
   "outputs": [],
   "source": [
    "from library_search import library_matching"
   ]
  },
  {
   "cell_type": "markdown",
   "metadata": {},
   "source": [
    "#### Load word2vec model"
   ]
  },
  {
   "cell_type": "code",
   "execution_count": 29,
   "metadata": {},
   "outputs": [],
   "source": [
    "path_models = os.path.join(path_data, \"trained_models\")\n",
    "model_file = os.path.join(path_models, \"spec2vec_librarymatching_iter_15.model\")\n",
    "model = gensim.models.Word2Vec.load(model_file)"
   ]
  },
  {
   "cell_type": "code",
   "execution_count": 38,
   "metadata": {},
   "outputs": [
    {
     "name": "stdout",
     "output_type": "stream",
     "text": [
      "Word2Vec(vocab=115910, size=300, alpha=0.025)\n"
     ]
    }
   ],
   "source": [
    "print(model)\n"
   ]
  },
  {
   "cell_type": "code",
   "execution_count": 19,
   "metadata": {},
   "outputs": [],
   "source": [
    "documents_query_s2v = [SpectrumDocument(spectrums_s2v[i], n_decimals=2) for i in selected_spectra]"
   ]
  },
  {
   "cell_type": "code",
   "execution_count": 32,
   "metadata": {},
   "outputs": [
    {
     "data": {
      "text/plain": [
       "1000"
      ]
     },
     "execution_count": 32,
     "metadata": {},
     "output_type": "execute_result"
    }
   ],
   "source": [
    "len(documents_query_s2v)"
   ]
  },
  {
   "cell_type": "code",
   "execution_count": 33,
   "metadata": {},
   "outputs": [
    {
     "data": {
      "text/plain": [
       "'SRRQPVVYXBTRQK-XMMPIXPASA-N'"
      ]
     },
     "execution_count": 33,
     "metadata": {},
     "output_type": "execute_result"
    }
   ],
   "source": [
    "documents_query_s2v[0]._obj.get(\"inchikey\")"
   ]
  },
  {
   "cell_type": "markdown",
   "metadata": {},
   "source": [
    "### Correct a few (< 10) spectrums with missing precursor_mz (in place)"
   ]
  },
  {
   "cell_type": "code",
   "execution_count": 20,
   "metadata": {},
   "outputs": [
    {
     "name": "stdout",
     "output_type": "stream",
     "text": [
      "2765\n",
      "parent mass new: 547.2247235480093 former was: -1.00727645199076\n",
      "precursor_mz new: 548.232 former was: 0.0\n",
      "2766\n",
      "parent mass new: 589.2357235480093 former was: -1.00727645199076\n",
      "precursor_mz new: 590.243 former was: 0.0\n",
      "3942\n",
      "parent mass new: 466.2697235480092 former was: -1.00727645199076\n",
      "precursor_mz new: 467.277 former was: 0.0\n",
      "3974\n",
      "parent mass new: 674.4887235480093 former was: -1.00727645199076\n",
      "precursor_mz new: 675.496 former was: 0.0\n",
      "3975\n",
      "parent mass new: 691.5147235480093 former was: -1.00727645199076\n",
      "precursor_mz new: 692.522 former was: 0.0\n",
      "3976\n",
      "parent mass new: 696.4707235480092 former was: -1.00727645199076\n",
      "precursor_mz new: 697.478 former was: 0.0\n",
      "3983\n",
      "parent mass new: 629.6107235480093 former was: -1.00727645199076\n",
      "precursor_mz new: 630.618 former was: 0.0\n",
      "3984\n",
      "parent mass new: 491.47072354800923 former was: -1.00727645199076\n",
      "precursor_mz new: 492.478 former was: 0.0\n",
      "3985\n",
      "parent mass new: 531.4627235480093 former was: -1.00727645199076\n",
      "precursor_mz new: 532.47 former was: 0.0\n",
      "21107\n",
      "parent mass new: 199.09972354800925 former was: -1.00727645199076\n",
      "precursor_mz new: 200.107 former was: 0.0\n",
      "21364\n",
      "parent mass new: 517.3137235480093 former was: -1.00727645199076\n",
      "precursor_mz new: 518.321 former was: 0.0\n",
      "22053\n",
      "parent mass new: 208.18272354800925 former was: -1.00727645199076\n",
      "precursor_mz new: 209.19 former was: 0.0\n"
     ]
    }
   ],
   "source": [
    "for i, spec in enumerate(spectrums_s2v):\n",
    "    if not spec.get(\"precursor_mz\"):\n",
    "        print(i)\n",
    "        fix_mass = 0.0\n",
    "        for history in spec.metadata['annotation_history']:\n",
    "            fix_mass_test = float(history['Precursor_MZ'])\n",
    "            fix_mass = max(fix_mass, fix_mass_test)\n",
    "        charge = spec.get(\"charge\")\n",
    "        protons_mass = 1.00727645199076 * charge\n",
    "        precursor_mass = fix_mass * abs(charge)\n",
    "        parent_mass = precursor_mass - protons_mass\n",
    "        if parent_mass:\n",
    "            print(\"parent mass new:\", parent_mass, \"former was:\", spec.get(\"parent_mass\"))\n",
    "            spec.set(\"parent_mass\", parent_mass)\n",
    "        print(\"precursor_mz new:\", fix_mass, \"former was:\", spec.get(\"precursor_mz\"))\n",
    "        spec.set(\"precursor_mz\", fix_mass)"
   ]
  },
  {
   "cell_type": "markdown",
   "metadata": {},
   "source": [
    "### Run Spec2Vec and parentmass based library matching for 1000 against 94320 spectra"
   ]
  },
  {
   "cell_type": "code",
   "execution_count": 36,
   "metadata": {},
   "outputs": [
    {
     "name": "stdout",
     "output_type": "stream",
     "text": [
      "Pre-selection includes spec2vec top 20.\n"
     ]
    }
   ],
   "source": [
    "found_matches_s2v = library_matching(documents_query_s2v, documents_library_s2v,\n",
    "                                     model,\n",
    "                                     presearch_based_on=[\"parentmass\", \"spec2vec-top20\"],\n",
    "                                     ignore_non_annotated=True,\n",
    "                                     intensity_weighting_power=0.5,\n",
    "                                     allowed_missing_percentage=5.0,\n",
    "                                     cosine_tol=0.005,\n",
    "                                     mass_tolerance=1.0)"
   ]
  },
  {
   "cell_type": "code",
   "execution_count": 21,
   "metadata": {},
   "outputs": [
    {
     "name": "stdout",
     "output_type": "stream",
     "text": [
      "C:\\Users\\joris\\Documents\\eScience_data\\data\\found_matches_s2v.pickle\n"
     ]
    }
   ],
   "source": [
    "import pickle\n",
    "outfile = os.path.join(path_data, 'found_matches_s2v.pickle')\n",
    "print(outfile)\n",
    "if os.path.exists(outfile):\n",
    "    with open(outfile, 'rb') as inf:\n",
    "        found_matches_s2v = pickle.load(inf)\n",
    "else:\n",
    "    with open(outfile, 'wb') as outf:\n",
    "        pickle.dump(found_matches_s2v, outf)"
   ]
  },
  {
   "cell_type": "code",
   "execution_count": 22,
   "metadata": {},
   "outputs": [
    {
     "name": "stdout",
     "output_type": "stream",
     "text": [
      "1000\n"
     ]
    }
   ],
   "source": [
    "print(len(found_matches_s2v))"
   ]
  },
  {
   "cell_type": "code",
   "execution_count": 53,
   "metadata": {},
   "outputs": [
    {
     "name": "stdout",
     "output_type": "stream",
     "text": [
      "<class 'list'>\n"
     ]
    }
   ],
   "source": [
    "print(type(found_matches_s2v))"
   ]
  },
  {
   "cell_type": "code",
   "execution_count": 3,
   "metadata": {},
   "outputs": [
    {
     "data": {
      "text/html": [
       "<div>\n",
       "<style scoped>\n",
       "    .dataframe tbody tr th:only-of-type {\n",
       "        vertical-align: middle;\n",
       "    }\n",
       "\n",
       "    .dataframe tbody tr th {\n",
       "        vertical-align: top;\n",
       "    }\n",
       "\n",
       "    .dataframe thead th {\n",
       "        text-align: right;\n",
       "    }\n",
       "</style>\n",
       "<table border=\"1\" class=\"dataframe\">\n",
       "  <thead>\n",
       "    <tr style=\"text-align: right;\">\n",
       "      <th></th>\n",
       "      <th>cosine_score</th>\n",
       "      <th>cosine_matches</th>\n",
       "      <th>mod_cosine_score</th>\n",
       "      <th>mod_cosine_matches</th>\n",
       "      <th>mass_match</th>\n",
       "      <th>s2v_score</th>\n",
       "    </tr>\n",
       "  </thead>\n",
       "  <tbody>\n",
       "    <tr>\n",
       "      <th>46003</th>\n",
       "      <td>0.960780</td>\n",
       "      <td>3</td>\n",
       "      <td>0.960780</td>\n",
       "      <td>3</td>\n",
       "      <td>1.0</td>\n",
       "      <td>0.887800</td>\n",
       "    </tr>\n",
       "    <tr>\n",
       "      <th>38195</th>\n",
       "      <td>0.049197</td>\n",
       "      <td>1</td>\n",
       "      <td>0.971344</td>\n",
       "      <td>3</td>\n",
       "      <td>0.0</td>\n",
       "      <td>0.858902</td>\n",
       "    </tr>\n",
       "    <tr>\n",
       "      <th>48062</th>\n",
       "      <td>0.043040</td>\n",
       "      <td>2</td>\n",
       "      <td>0.043040</td>\n",
       "      <td>2</td>\n",
       "      <td>0.0</td>\n",
       "      <td>0.848561</td>\n",
       "    </tr>\n",
       "    <tr>\n",
       "      <th>45969</th>\n",
       "      <td>0.049498</td>\n",
       "      <td>1</td>\n",
       "      <td>0.961919</td>\n",
       "      <td>2</td>\n",
       "      <td>0.0</td>\n",
       "      <td>0.844523</td>\n",
       "    </tr>\n",
       "    <tr>\n",
       "      <th>32755</th>\n",
       "      <td>0.119678</td>\n",
       "      <td>1</td>\n",
       "      <td>0.608107</td>\n",
       "      <td>2</td>\n",
       "      <td>0.0</td>\n",
       "      <td>0.811812</td>\n",
       "    </tr>\n",
       "    <tr>\n",
       "      <th>...</th>\n",
       "      <td>...</td>\n",
       "      <td>...</td>\n",
       "      <td>...</td>\n",
       "      <td>...</td>\n",
       "      <td>...</td>\n",
       "      <td>...</td>\n",
       "    </tr>\n",
       "    <tr>\n",
       "      <th>78615</th>\n",
       "      <td>0.000000</td>\n",
       "      <td>0</td>\n",
       "      <td>0.000000</td>\n",
       "      <td>0</td>\n",
       "      <td>1.0</td>\n",
       "      <td>-0.085632</td>\n",
       "    </tr>\n",
       "    <tr>\n",
       "      <th>1556</th>\n",
       "      <td>0.000000</td>\n",
       "      <td>0</td>\n",
       "      <td>0.000000</td>\n",
       "      <td>0</td>\n",
       "      <td>1.0</td>\n",
       "      <td>-0.088960</td>\n",
       "    </tr>\n",
       "    <tr>\n",
       "      <th>12317</th>\n",
       "      <td>0.000000</td>\n",
       "      <td>0</td>\n",
       "      <td>0.000000</td>\n",
       "      <td>0</td>\n",
       "      <td>1.0</td>\n",
       "      <td>-0.092868</td>\n",
       "    </tr>\n",
       "    <tr>\n",
       "      <th>74298</th>\n",
       "      <td>0.000000</td>\n",
       "      <td>0</td>\n",
       "      <td>0.000000</td>\n",
       "      <td>0</td>\n",
       "      <td>1.0</td>\n",
       "      <td>-0.099162</td>\n",
       "    </tr>\n",
       "    <tr>\n",
       "      <th>12571</th>\n",
       "      <td>0.001388</td>\n",
       "      <td>2</td>\n",
       "      <td>0.001388</td>\n",
       "      <td>2</td>\n",
       "      <td>1.0</td>\n",
       "      <td>-0.117237</td>\n",
       "    </tr>\n",
       "  </tbody>\n",
       "</table>\n",
       "<p>259 rows × 6 columns</p>\n",
       "</div>"
      ],
      "text/plain": [
       "       cosine_score  cosine_matches  mod_cosine_score  mod_cosine_matches  \\\n",
       "46003      0.960780               3          0.960780                   3   \n",
       "38195      0.049197               1          0.971344                   3   \n",
       "48062      0.043040               2          0.043040                   2   \n",
       "45969      0.049498               1          0.961919                   2   \n",
       "32755      0.119678               1          0.608107                   2   \n",
       "...             ...             ...               ...                 ...   \n",
       "78615      0.000000               0          0.000000                   0   \n",
       "1556       0.000000               0          0.000000                   0   \n",
       "12317      0.000000               0          0.000000                   0   \n",
       "74298      0.000000               0          0.000000                   0   \n",
       "12571      0.001388               2          0.001388                   2   \n",
       "\n",
       "       mass_match  s2v_score  \n",
       "46003         1.0   0.887800  \n",
       "38195         0.0   0.858902  \n",
       "48062         0.0   0.848561  \n",
       "45969         0.0   0.844523  \n",
       "32755         0.0   0.811812  \n",
       "...           ...        ...  \n",
       "78615         1.0  -0.085632  \n",
       "1556          1.0  -0.088960  \n",
       "12317         1.0  -0.092868  \n",
       "74298         1.0  -0.099162  \n",
       "12571         1.0  -0.117237  \n",
       "\n",
       "[259 rows x 6 columns]"
      ]
     },
     "execution_count": 3,
     "metadata": {},
     "output_type": "execute_result"
    }
   ],
   "source": [
    "ID = 0\n",
    "found_matches_s2v[ID].sort_values(by=[\"s2v_score\"], ascending=False)"
   ]
  },
  {
   "cell_type": "code",
   "execution_count": null,
   "metadata": {},
   "outputs": [],
   "source": [
    "found_matches_classical[0].sort_values(by=[\"cosine_score\"], ascending=False)"
   ]
  },
  {
   "cell_type": "code",
   "execution_count": 67,
   "metadata": {},
   "outputs": [
    {
     "name": "stdout",
     "output_type": "stream",
     "text": [
      "72679\n",
      "JFVKWCYZKMUTLH-GRWTVWFQSA-N\n",
      "JFVKWCYZKMUTLH-GRWTVWFQSA-N\n"
     ]
    }
   ],
   "source": [
    "threshold = 0.5\n",
    "min_match = 1\n",
    "df_select = found_matches_s2v[ID][(found_matches_s2v[ID]['mass_match'] == 1)\n",
    "                     & (found_matches_s2v[ID]['cosine_score'] > threshold)\n",
    "                     & (found_matches_s2v[ID]['cosine_matches'] >= min_match)]\n",
    "best_match_ID = df_select.sort_values(by=['cosine_score'], ascending=False).index[0]\n",
    "print(best_match_ID)\n",
    "print(documents_library_s2v[best_match_ID]._obj.get(\"inchikey\"))\n",
    "print(documents_query_s2v[ID]._obj.get(\"inchikey\"))"
   ]
  },
  {
   "cell_type": "code",
   "execution_count": 57,
   "metadata": {},
   "outputs": [
    {
     "data": {
      "text/plain": [
       "46003"
      ]
     },
     "execution_count": 57,
     "metadata": {},
     "output_type": "execute_result"
    }
   ],
   "source": []
  },
  {
   "cell_type": "code",
   "execution_count": 68,
   "metadata": {},
   "outputs": [
    {
     "name": "stdout",
     "output_type": "stream",
     "text": [
      "Checking matches for S2V score > 0.0\n",
      "Checking matches for S2V score > 0.05\n",
      "Checking matches for S2V score > 0.1\n",
      "Checking matches for S2V score > 0.15000000000000002\n",
      "Checking matches for S2V score > 0.2\n",
      "Checking matches for S2V score > 0.25\n",
      "Checking matches for S2V score > 0.30000000000000004\n",
      "Checking matches for S2V score > 0.35000000000000003\n",
      "Checking matches for S2V score > 0.4\n",
      "Checking matches for S2V score > 0.45\n",
      "Checking matches for S2V score > 0.5\n",
      "Checking matches for S2V score > 0.55\n",
      "Checking matches for S2V score > 0.6000000000000001\n",
      "Checking matches for S2V score > 0.65\n",
      "Checking matches for S2V score > 0.7000000000000001\n",
      "Checking matches for S2V score > 0.75\n",
      "Checking matches for S2V score > 0.8\n",
      "Checking matches for S2V score > 0.8500000000000001\n",
      "Checking matches for S2V score > 0.9\n",
      "Checking matches for S2V score > 0.9500000000000001\n"
     ]
    }
   ],
   "source": [
    "test_matches_s2v = []\n",
    "\n",
    "cosine_thresholds = np.arange(0,1,0.05)\n",
    "\n",
    "for threshold in cosine_thresholds:\n",
    "    print(\"Checking matches for S2V score >\", threshold)\n",
    "    test_matches = []\n",
    "    \n",
    "    for ID in range(len(documents_query_s2v)):\n",
    "\n",
    "        # Scenario 2: mass + sort by Spec2Vec\n",
    "        df_select = found_matches_s2v[ID][(found_matches_s2v[ID]['mass_match'] == 1)\n",
    "                                      & (found_matches_s2v[ID]['s2v_score'] > threshold)]\n",
    "        if df_select.shape[0] > 0:\n",
    "            best_match_ID = df_select.sort_values(by=['s2v_score'], ascending=False).index[0]\n",
    "            inchikey_selected = documents_library_s2v[best_match_ID]._obj.get(\"inchikey\")[:14]\n",
    "            inchikey_query = documents_query_s2v[ID]._obj.get(\"inchikey\")[:14]\n",
    "            \n",
    "            best_bet = 1 * (inchikey_selected == inchikey_query)\n",
    "        else:\n",
    "            best_bet = -1 # meaning: not found\n",
    "        test_matches.append(best_bet)\n",
    "\n",
    "    # Make arrays from lists:\n",
    "    test_arr = np.array(test_matches)\n",
    "    \n",
    "    test_matches_s2v.append([np.sum(test_arr == 1), np.sum(test_arr == 0), np.sum(test_arr == -1)])"
   ]
  },
  {
   "cell_type": "code",
   "execution_count": 78,
   "metadata": {},
   "outputs": [
    {
     "data": {
      "text/plain": [
       "Text(0, 0.5, 'true positives')"
      ]
     },
     "execution_count": 78,
     "metadata": {},
     "output_type": "execute_result"
    },
    {
     "data": {
      "image/png": "[encoded data removed]",
      "text/plain": [
       "<Figure size 504x432 with 1 Axes>"
      ]
     },
     "metadata": {},
     "output_type": "display_data"
    }
   ],
   "source": [
    "test_matches_s2v_arr = np.array(test_matches_s2v)\n",
    "\n",
    "plt.figure(figsize=(7,6))\n",
    "plt.style.use('ggplot')\n",
    "plt.scatter(test_matches_s2v_arr[:,1], test_matches_s2v_arr[:,0])\n",
    "plt.xlabel('false positives')\n",
    "plt.ylabel('true positives')"
   ]
  },
  {
   "cell_type": "code",
   "execution_count": 76,
   "metadata": {},
   "outputs": [
    {
     "data": {
      "text/plain": [
       "array([[790, 209,   1],\n",
       "       [790, 209,   1],\n",
       "       [790, 207,   3],\n",
       "       [790, 200,  10],\n",
       "       [790, 193,  17],\n",
       "       [789, 182,  29],\n",
       "       [784, 167,  49],\n",
       "       [778, 160,  62],\n",
       "       [772, 149,  79],\n",
       "       [764, 143,  93],\n",
       "       [757, 140, 103],\n",
       "       [748, 135, 117],\n",
       "       [740, 128, 132],\n",
       "       [721, 122, 157],\n",
       "       [699, 107, 194],\n",
       "       [657,  98, 245],\n",
       "       [618,  88, 294],\n",
       "       [536,  79, 385],\n",
       "       [419,  71, 510],\n",
       "       [213,  42, 745]])"
      ]
     },
     "execution_count": 76,
     "metadata": {},
     "output_type": "execute_result"
    }
   ],
   "source": [
    "np.array(test_matches_s2v)[:,:]"
   ]
  },
  {
   "cell_type": "code",
   "execution_count": 175,
   "metadata": {},
   "outputs": [
    {
     "name": "stdout",
     "output_type": "stream",
     "text": [
      "Checking matches for S2V score > 0.4\n"
     ]
    }
   ],
   "source": [
    "#Trying to find a label of true or false positive for each query at a certain s2v score threshold\n",
    "true_pos_s2v = []\n",
    "false_pos_s2v = []\n",
    "#df ends up as rows: query document number, cols: features (from found_matches) and true or false positive\n",
    "best_matches_labeled_s2v = pd.DataFrame()\n",
    "\n",
    "threshold = 0.4\n",
    "print(\"Checking matches for S2V score >\", threshold)\n",
    "\n",
    "for ID in range(len(documents_query_s2v)):\n",
    "    # Scenario 2: mass + sort by Spec2Vec\n",
    "    df_select = found_matches_s2v[ID][(found_matches_s2v[ID]['mass_match'] == 1)\n",
    "                                  & (found_matches_s2v[ID]['s2v_score'] > threshold)]\n",
    "    if df_select.shape[0] > 0:\n",
    "        best_match = df_select.sort_values(by=['s2v_score'], ascending=False).iloc[0]\n",
    "        best_match_ID = best_match.name\n",
    "        inchikey_selected = documents_library_s2v[best_match_ID]._obj.get(\"inchikey\")[:14]\n",
    "        inchikey_query = documents_query_s2v[ID]._obj.get(\"inchikey\")[:14]\n",
    "\n",
    "        best_bet = 1 * (inchikey_selected == inchikey_query)\n",
    "        \n",
    "        best_match['label'] = best_bet\n",
    "        best_match.rename(ID, inplace=True)\n",
    "        best_matches_labeled_s2v = best_matches_labeled_s2v.append(best_match)\n",
    "    else:\n",
    "        best_bet = -1 # meaning: not found - not interesting in this case\n",
    "\n",
    "    #record pairs\n",
    "    if best_bet == 1:\n",
    "        true_pos_s2v.append((ID, best_match_ID))\n",
    "    elif best_bet == 0:\n",
    "        false_pos_s2v.append((ID, best_match_ID)) #record best hit for false positive"
   ]
  },
  {
   "cell_type": "code",
   "execution_count": 176,
   "metadata": {},
   "outputs": [
    {
     "name": "stdout",
     "output_type": "stream",
     "text": [
      "772 149\n",
      "(0, 46003)\n",
      "    cosine_matches  cosine_score  label  mass_match  mod_cosine_matches  \\\n",
      "8              4.0      0.474605    0.0         1.0                 4.0   \n",
      "16             0.0      0.000000    0.0         1.0                 0.0   \n",
      "18             7.0      0.000094    0.0         1.0                10.0   \n",
      "22           134.0      0.717124    0.0         1.0               134.0   \n",
      "46             9.0      0.987546    0.0         1.0                 9.0   \n",
      "48            65.0      0.016529    0.0         1.0                72.0   \n",
      "52            65.0      0.999897    0.0         1.0                65.0   \n",
      "65           141.0      0.663807    0.0         1.0               140.0   \n",
      "66            51.0      0.997571    0.0         1.0                51.0   \n",
      "74             2.0      0.504692    0.0         1.0                 2.0   \n",
      "\n",
      "    mod_cosine_score  s2v_score  \n",
      "8           0.474605   0.480207  \n",
      "16          0.000000   0.949601  \n",
      "18          0.000190   0.478899  \n",
      "22          0.717124   0.950526  \n",
      "46          0.987546   0.980149  \n",
      "48          0.020745   0.439948  \n",
      "52          0.999912   0.997198  \n",
      "65          0.663793   0.747978  \n",
      "66          0.997571   0.983277  \n",
      "74          0.504692   0.676996  \n"
     ]
    }
   ],
   "source": [
    "print(len(true_pos_s2v), len(false_pos_s2v))\n",
    "print(true_pos_s2v[0])\n",
    "print(best_matches_labeled_s2v[best_matches_labeled_s2v['label']==0].iloc[0:10])"
   ]
  },
  {
   "cell_type": "code",
   "execution_count": 177,
   "metadata": {},
   "outputs": [],
   "source": [
    "#store labels\n",
    "labels = np.array(best_matches_labeled_s2v['label'])\n",
    "#remove labels\n",
    "best_matches_s2v = best_matches_labeled_s2v.drop('label', axis = 1)\n",
    "feature_list = list(best_matches_s2v.columns)\n",
    "best_matches_s2v = np.array(best_matches_s2v)"
   ]
  },
  {
   "cell_type": "code",
   "execution_count": 178,
   "metadata": {},
   "outputs": [
    {
     "name": "stdout",
     "output_type": "stream",
     "text": [
      "Training Features Shape: (690, 6)\n",
      "Training Labels Shape: (690,)\n",
      "Testing Features Shape: (231, 6)\n",
      "Testing Labels Shape: (231,)\n"
     ]
    }
   ],
   "source": [
    "from sklearn.model_selection import train_test_split\n",
    "#make training and testing sets\n",
    "train_features, test_features,\\\n",
    "train_labels, test_labels = train_test_split(best_matches_s2v, labels,\n",
    "                                             test_size = 0.25, random_state = 42)\n",
    "print('Training Features Shape:', train_features.shape)\n",
    "print('Training Labels Shape:', train_labels.shape)\n",
    "print('Testing Features Shape:', test_features.shape)\n",
    "print('Testing Labels Shape:', test_labels.shape)"
   ]
  },
  {
   "cell_type": "code",
   "execution_count": 179,
   "metadata": {},
   "outputs": [
    {
     "name": "stdout",
     "output_type": "stream",
     "text": [
      "[0. 1. 0. 1. 1. 1. 1. 1. 1. 1. 1. 0. 1. 1. 1. 1. 1. 0. 1. 1. 0. 1. 1. 1.\n",
      " 1. 1. 1. 1. 1. 1. 1. 1. 1. 1. 0. 0. 1. 1. 0. 1. 1. 1. 1. 0. 1. 1. 0. 1.\n",
      " 1. 1. 1. 1. 1. 1. 1. 1. 1. 1. 1. 0. 1. 1. 0. 1. 0. 1. 1. 1. 1. 1. 1. 1.\n",
      " 1. 1. 1. 1. 1. 1. 1. 1. 1. 1. 1. 1. 1. 1. 1. 1. 0. 1. 1. 1. 1. 1. 1. 1.\n",
      " 1. 1. 1. 1. 1. 1. 1. 1. 1. 0. 1. 1. 1. 1. 1. 1. 1. 1. 0. 0. 0. 1. 1. 1.\n",
      " 0. 1. 1. 1. 0. 1. 1. 1. 0. 1. 1. 1. 1. 1. 0. 1. 1. 1. 1. 1. 1. 1. 1. 1.\n",
      " 0. 1. 0. 1. 1. 1. 0. 1. 1. 1. 1. 1. 1. 1. 0. 1. 0. 1. 1. 1. 1. 1. 0. 0.\n",
      " 1. 1. 1. 1. 1. 1. 1. 1. 1. 1. 1. 1. 0. 1. 1. 1. 1. 1. 1. 1. 1. 1. 1. 1.\n",
      " 0. 1. 1. 1. 0. 1. 1. 1. 1. 1. 1. 0. 1. 1. 1. 1. 1. 0. 1. 0. 1. 1. 1. 1.\n",
      " 0. 1. 1. 1. 1. 1. 1. 1. 1. 0. 0. 1. 1. 1. 1.]\n",
      "False positive rate test set:  0.16450216450216448\n"
     ]
    }
   ],
   "source": [
    "print(test_labels)\n",
    "print(\"False positive rate test set: \", 1 - (np.sum(test_labels)/len(test_labels)))"
   ]
  },
  {
   "cell_type": "code",
   "execution_count": 180,
   "metadata": {},
   "outputs": [
    {
     "data": {
      "text/plain": [
       "RandomForestClassifier(n_estimators=1000, random_state=42)"
      ]
     },
     "execution_count": 180,
     "metadata": {},
     "output_type": "execute_result"
    }
   ],
   "source": [
    "from sklearn.ensemble import RandomForestClassifier\n",
    "rf = RandomForestClassifier(n_estimators = 1000, random_state = 42)\n",
    "rf.fit(train_features, train_labels)"
   ]
  },
  {
   "cell_type": "code",
   "execution_count": 181,
   "metadata": {},
   "outputs": [
    {
     "name": "stdout",
     "output_type": "stream",
     "text": [
      "[1. 1. 1. 1. 1. 1. 1. 1. 1. 1. 1. 1. 1. 1. 1. 0. 1. 1. 1. 1. 1. 1. 1. 1.\n",
      " 1. 1. 1. 1. 1. 1. 1. 1. 1. 1. 1. 1. 1. 1. 1. 1. 1. 1. 1. 1. 1. 1. 1. 1.\n",
      " 1. 1. 1. 1. 1. 1. 1. 1. 1. 1. 1. 1. 1. 1. 0. 1. 1. 1. 1. 1. 1. 1. 1. 1.\n",
      " 1. 1. 1. 1. 1. 1. 1. 1. 1. 1. 1. 1. 1. 1. 1. 1. 1. 1. 1. 1. 1. 1. 1. 1.\n",
      " 1. 0. 1. 1. 1. 1. 1. 1. 1. 1. 1. 1. 1. 1. 1. 1. 1. 1. 1. 1. 1. 1. 1. 1.\n",
      " 1. 1. 1. 1. 1. 1. 1. 1. 1. 1. 1. 1. 1. 1. 1. 1. 1. 1. 1. 1. 1. 1. 1. 1.\n",
      " 1. 1. 0. 1. 1. 1. 1. 1. 1. 1. 1. 0. 1. 1. 1. 0. 0. 1. 1. 1. 1. 1. 1. 1.\n",
      " 1. 1. 1. 1. 1. 1. 1. 1. 1. 1. 1. 1. 1. 1. 1. 1. 1. 1. 1. 1. 1. 1. 1. 1.\n",
      " 1. 1. 1. 1. 1. 1. 1. 1. 1. 1. 1. 1. 1. 1. 1. 1. 1. 1. 1. 1. 1. 1. 1. 1.\n",
      " 1. 1. 1. 1. 1. 1. 1. 1. 1. 1. 1. 1. 1. 1. 1.]\n",
      "Accuracy: 0.8311688311688312\n",
      "False positive rate predictions:  0.030303030303030276\n"
     ]
    }
   ],
   "source": [
    "predictions = rf.predict(test_features)\n",
    "print(predictions)\n",
    "accuracy = sum(1 for test, pred in zip(test_labels, predictions) if test == pred) / len(test_labels)\n",
    "print(\"Accuracy:\", accuracy)\n",
    "print(\"False positive rate predictions: \", 1 - (np.sum(predictions)/len(predictions)))"
   ]
  },
  {
   "cell_type": "code",
   "execution_count": 182,
   "metadata": {},
   "outputs": [
    {
     "name": "stdout",
     "output_type": "stream",
     "text": [
      "Variable: s2v_score            Importance: 0.25\n",
      "Variable: cosine_score         Importance: 0.21\n",
      "Variable: mod_cosine_score     Importance: 0.2\n",
      "Variable: cosine_matches       Importance: 0.17\n",
      "Variable: mod_cosine_matches   Importance: 0.17\n",
      "Variable: mass_match           Importance: 0.0\n"
     ]
    }
   ],
   "source": [
    "# Get numerical feature importances\n",
    "importances = list(rf.feature_importances_)\n",
    "# List of tuples with variable and importance\n",
    "feature_importances = [(feature, round(importance, 2)) for feature, importance in zip(feature_list, importances)]\n",
    "# Sort the feature importances by most important first\n",
    "feature_importances = sorted(feature_importances, key = lambda x: x[1], reverse = True)\n",
    "# Print out the feature and importances \n",
    "[print('Variable: {:20} Importance: {}'.format(*pair)) for pair in feature_importances];"
   ]
  },
  {
   "cell_type": "code",
   "execution_count": 183,
   "metadata": {},
   "outputs": [],
   "source": [
    "from sklearn.ensemble import RandomForestClassifier\n",
    "from sklearn.model_selection import train_test_split\n",
    "\n",
    "def do_random_forest(feature_df, label_name, verbose = True):\n",
    "    '''Split data in training and test, train rf, predict on test\n",
    "\n",
    "    feature_df: pandas DataFrame\n",
    "    label_name: str, name of the label column in feature_df\n",
    "    verbose: bool, print more info\n",
    "    '''\n",
    "    #store labels\n",
    "    labels = np.array(feature_df[label_name])\n",
    "    #remove labels\n",
    "    feature_df_nolab = feature_df.drop(label_name, axis = 1)\n",
    "    feature_list = list(feature_df_nolab.columns)\n",
    "    feature_df_nolab = np.array(feature_df_nolab)\n",
    "    \n",
    "    #split data in training and test set\n",
    "    train_features, test_features,\\\n",
    "    train_labels, test_labels = train_test_split(feature_df_nolab, labels,\n",
    "                                                 test_size = 0.25, random_state = 42)\n",
    "    if verbose:\n",
    "        print('Training Features Shape:', train_features.shape)\n",
    "        print('Training Labels Shape:', train_labels.shape)\n",
    "        print('Testing Features Shape:', test_features.shape)\n",
    "        print('Testing Labels Shape:', test_labels.shape)\n",
    "        print(test_labels)\n",
    "    print(\"Percentage false positives test set: \", 1 - (np.sum(test_labels)/len(test_labels)))\n",
    "    \n",
    "    #train model\n",
    "    rf = RandomForestClassifier(n_estimators = 1000, random_state = 42)\n",
    "    rf.fit(train_features, train_labels)\n",
    "    \n",
    "    #predict test set\n",
    "    predictions = rf.predict(test_features)\n",
    "    if verbose:\n",
    "        print(predictions)\n",
    "    accuracy = sum(1 for test, pred in zip(test_labels, predictions) if test == pred) / len(test_labels)\n",
    "    print(\"Accuracy:\", accuracy)\n",
    "    print(\"Predicted percentage false positives test set: \", 1 - (np.sum(predictions)/len(predictions)))\n",
    "\n",
    "    #get feature importances\n",
    "    importances = list(rf.feature_importances_)\n",
    "    #list of tuples with variable and importance\n",
    "    feature_importances = [(feature, round(importance, 2)) for feature, importance in zip(feature_list, importances)]\n",
    "    feature_importances = sorted(feature_importances, key = lambda x: x[1], reverse = True)\n",
    "    [print('Variable: {:20} Importance: {}'.format(*pair)) for pair in feature_importances];"
   ]
  },
  {
   "cell_type": "code",
   "execution_count": 184,
   "metadata": {},
   "outputs": [
    {
     "name": "stdout",
     "output_type": "stream",
     "text": [
      "Training Features Shape: (223, 6)\n",
      "Training Labels Shape: (223,)\n",
      "Testing Features Shape: (75, 6)\n",
      "Testing Labels Shape: (75,)\n",
      "[1. 1. 1. 0. 0. 1. 0. 0. 0. 1. 0. 1. 1. 1. 0. 0. 0. 0. 0. 0. 1. 0. 1. 0.\n",
      " 0. 1. 1. 0. 1. 1. 0. 1. 0. 0. 0. 0. 0. 1. 0. 0. 0. 0. 0. 0. 0. 1. 1. 1.\n",
      " 1. 1. 0. 1. 0. 1. 1. 0. 1. 0. 1. 0. 0. 1. 1. 0. 0. 0. 1. 0. 1. 1. 0. 1.\n",
      " 1. 1. 1.]\n",
      "Percentage false positives test set:  0.5333333333333333\n",
      "[0. 1. 1. 0. 0. 1. 0. 0. 0. 1. 0. 0. 1. 0. 1. 0. 1. 1. 1. 1. 1. 0. 0. 0.\n",
      " 0. 0. 0. 0. 0. 1. 0. 1. 1. 0. 0. 1. 0. 1. 0. 1. 1. 0. 0. 0. 1. 1. 0. 1.\n",
      " 0. 1. 0. 0. 0. 1. 0. 1. 0. 0. 0. 1. 0. 0. 1. 0. 0. 0. 1. 1. 0. 1. 1. 0.\n",
      " 0. 1. 0.]\n",
      "Accuracy: 0.5733333333333334\n",
      "Predicted percentage false positives test set:  0.5866666666666667\n",
      "Variable: s2v_score            Importance: 0.25\n",
      "Variable: cosine_matches       Importance: 0.19\n",
      "Variable: cosine_score         Importance: 0.19\n",
      "Variable: mod_cosine_matches   Importance: 0.19\n",
      "Variable: mod_cosine_score     Importance: 0.19\n",
      "Variable: mass_match           Importance: 0.0\n"
     ]
    }
   ],
   "source": [
    "#make ratio false to true positives 50/50\n",
    "false_p = best_matches_labeled_s2v[best_matches_labeled_s2v['label']==0]\n",
    "num_false_p = len(false_p)\n",
    "np.random.seed(42) # to make it reproducible\n",
    "chosen_true_p_inds = np.random.choice(best_matches_labeled_s2v[best_matches_labeled_s2v['label']==1].index.values, num_false_p)\n",
    "best_matches_s2v_5050 = false_p.append(best_matches_labeled_s2v.loc[chosen_true_p_inds])\n",
    "best_matches_s2v_5050.shape\n",
    "do_random_forest(best_matches_s2v_5050, 'label')"
   ]
  },
  {
   "cell_type": "code",
   "execution_count": null,
   "metadata": {},
   "outputs": [],
   "source": []
  }
 ],
 "metadata": {
  "kernelspec": {
   "display_name": "Python 3",
   "language": "python",
   "name": "python3"
  },
  "language_info": {
   "codemirror_mode": {
    "name": "ipython",
    "version": 3
   },
   "file_extension": ".py",
   "mimetype": "text/x-python",
   "name": "python",
   "nbconvert_exporter": "python",
   "pygments_lexer": "ipython3",
   "version": "3.7.7"
  }
 },
 "nbformat": 4,
 "nbformat_minor": 4
}
